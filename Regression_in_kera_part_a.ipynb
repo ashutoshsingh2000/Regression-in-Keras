{
 "cells": [
  {
   "cell_type": "markdown",
   "metadata": {},
   "source": [
    "Part A"
   ]
  },
  {
   "cell_type": "markdown",
   "metadata": {},
   "source": [
    "Use the Keras library to build a neural network with the following:\n",
    "\n",
    "- One hidden layer of 10 nodes, and a ReLU activation function\n",
    "\n",
    "- Use the adam optimizer and the mean squared error as the loss function.\n",
    "\n",
    "1. Randomly split the data into a training and test sets by holding 30% of the data for testing. You can use the train_test_splithelper function from Scikit-learn.\n",
    "\n",
    "2. Train the model on the training data using 50 epochs.\n",
    "\n",
    "3. Evaluate the model on the test data and compute the mean squared error between the predicted concrete strength and the actual concrete strength. You can use the mean_squared_error function from Scikit-learn.\n",
    "\n",
    "4. Repeat steps 1 - 3, 50 times, i.e., create a list of 50 mean squared errors.\n",
    "\n",
    "5. Report the mean and the standard deviation of the mean squared errors."
   ]
  },
  {
   "cell_type": "markdown",
   "metadata": {},
   "source": [
    " https://cocl.us/concrete_data"
   ]
  },
  {
   "cell_type": "code",
   "execution_count": 19,
   "metadata": {},
   "outputs": [],
   "source": [
    "import pandas as pd\n",
    "import numpy as np"
   ]
  },
  {
   "cell_type": "code",
   "execution_count": 2,
   "metadata": {
    "collapsed": true,
    "jupyter": {
     "outputs_hidden": true
    }
   },
   "outputs": [
    {
     "data": {
      "text/html": [
       "<div>\n",
       "<style scoped>\n",
       "    .dataframe tbody tr th:only-of-type {\n",
       "        vertical-align: middle;\n",
       "    }\n",
       "\n",
       "    .dataframe tbody tr th {\n",
       "        vertical-align: top;\n",
       "    }\n",
       "\n",
       "    .dataframe thead th {\n",
       "        text-align: right;\n",
       "    }\n",
       "</style>\n",
       "<table border=\"1\" class=\"dataframe\">\n",
       "  <thead>\n",
       "    <tr style=\"text-align: right;\">\n",
       "      <th></th>\n",
       "      <th>Cement</th>\n",
       "      <th>Blast Furnace Slag</th>\n",
       "      <th>Fly Ash</th>\n",
       "      <th>Water</th>\n",
       "      <th>Superplasticizer</th>\n",
       "      <th>Coarse Aggregate</th>\n",
       "      <th>Fine Aggregate</th>\n",
       "      <th>Age</th>\n",
       "      <th>Strength</th>\n",
       "    </tr>\n",
       "  </thead>\n",
       "  <tbody>\n",
       "    <tr>\n",
       "      <th>0</th>\n",
       "      <td>540.0</td>\n",
       "      <td>0.0</td>\n",
       "      <td>0.0</td>\n",
       "      <td>162.0</td>\n",
       "      <td>2.5</td>\n",
       "      <td>1040.0</td>\n",
       "      <td>676.0</td>\n",
       "      <td>28</td>\n",
       "      <td>79.99</td>\n",
       "    </tr>\n",
       "    <tr>\n",
       "      <th>1</th>\n",
       "      <td>540.0</td>\n",
       "      <td>0.0</td>\n",
       "      <td>0.0</td>\n",
       "      <td>162.0</td>\n",
       "      <td>2.5</td>\n",
       "      <td>1055.0</td>\n",
       "      <td>676.0</td>\n",
       "      <td>28</td>\n",
       "      <td>61.89</td>\n",
       "    </tr>\n",
       "    <tr>\n",
       "      <th>2</th>\n",
       "      <td>332.5</td>\n",
       "      <td>142.5</td>\n",
       "      <td>0.0</td>\n",
       "      <td>228.0</td>\n",
       "      <td>0.0</td>\n",
       "      <td>932.0</td>\n",
       "      <td>594.0</td>\n",
       "      <td>270</td>\n",
       "      <td>40.27</td>\n",
       "    </tr>\n",
       "    <tr>\n",
       "      <th>3</th>\n",
       "      <td>332.5</td>\n",
       "      <td>142.5</td>\n",
       "      <td>0.0</td>\n",
       "      <td>228.0</td>\n",
       "      <td>0.0</td>\n",
       "      <td>932.0</td>\n",
       "      <td>594.0</td>\n",
       "      <td>365</td>\n",
       "      <td>41.05</td>\n",
       "    </tr>\n",
       "    <tr>\n",
       "      <th>4</th>\n",
       "      <td>198.6</td>\n",
       "      <td>132.4</td>\n",
       "      <td>0.0</td>\n",
       "      <td>192.0</td>\n",
       "      <td>0.0</td>\n",
       "      <td>978.4</td>\n",
       "      <td>825.5</td>\n",
       "      <td>360</td>\n",
       "      <td>44.30</td>\n",
       "    </tr>\n",
       "  </tbody>\n",
       "</table>\n",
       "</div>"
      ],
      "text/plain": [
       "   Cement  Blast Furnace Slag  Fly Ash  Water  Superplasticizer  \\\n",
       "0   540.0                 0.0      0.0  162.0               2.5   \n",
       "1   540.0                 0.0      0.0  162.0               2.5   \n",
       "2   332.5               142.5      0.0  228.0               0.0   \n",
       "3   332.5               142.5      0.0  228.0               0.0   \n",
       "4   198.6               132.4      0.0  192.0               0.0   \n",
       "\n",
       "   Coarse Aggregate  Fine Aggregate  Age  Strength  \n",
       "0            1040.0           676.0   28     79.99  \n",
       "1            1055.0           676.0   28     61.89  \n",
       "2             932.0           594.0  270     40.27  \n",
       "3             932.0           594.0  365     41.05  \n",
       "4             978.4           825.5  360     44.30  "
      ]
     },
     "execution_count": 2,
     "metadata": {},
     "output_type": "execute_result"
    }
   ],
   "source": [
    "concrete_data = pd.read_csv('https://s3-api.us-geo.objectstorage.softlayer.net/cf-courses-data/CognitiveClass/DL0101EN/labs/data/concrete_data.csv')\n",
    "concrete_data.head()"
   ]
  },
  {
   "cell_type": "code",
   "execution_count": 3,
   "metadata": {},
   "outputs": [
    {
     "data": {
      "text/plain": [
       "Cement                0\n",
       "Blast Furnace Slag    0\n",
       "Fly Ash               0\n",
       "Water                 0\n",
       "Superplasticizer      0\n",
       "Coarse Aggregate      0\n",
       "Fine Aggregate        0\n",
       "Age                   0\n",
       "Strength              0\n",
       "dtype: int64"
      ]
     },
     "execution_count": 3,
     "metadata": {},
     "output_type": "execute_result"
    }
   ],
   "source": [
    "concrete_data.isnull().sum()"
   ]
  },
  {
   "cell_type": "code",
   "execution_count": 4,
   "metadata": {},
   "outputs": [],
   "source": [
    "concrete_data_columns = concrete_data.columns\n",
    "\n",
    "predictors = concrete_data[concrete_data_columns[concrete_data_columns != 'Strength']] # all columns except Strength\n",
    "target = concrete_data['Strength'] # Strength column"
   ]
  },
  {
   "cell_type": "code",
   "execution_count": 5,
   "metadata": {},
   "outputs": [
    {
     "data": {
      "text/html": [
       "<div>\n",
       "<style scoped>\n",
       "    .dataframe tbody tr th:only-of-type {\n",
       "        vertical-align: middle;\n",
       "    }\n",
       "\n",
       "    .dataframe tbody tr th {\n",
       "        vertical-align: top;\n",
       "    }\n",
       "\n",
       "    .dataframe thead th {\n",
       "        text-align: right;\n",
       "    }\n",
       "</style>\n",
       "<table border=\"1\" class=\"dataframe\">\n",
       "  <thead>\n",
       "    <tr style=\"text-align: right;\">\n",
       "      <th></th>\n",
       "      <th>Cement</th>\n",
       "      <th>Blast Furnace Slag</th>\n",
       "      <th>Fly Ash</th>\n",
       "      <th>Water</th>\n",
       "      <th>Superplasticizer</th>\n",
       "      <th>Coarse Aggregate</th>\n",
       "      <th>Fine Aggregate</th>\n",
       "      <th>Age</th>\n",
       "    </tr>\n",
       "  </thead>\n",
       "  <tbody>\n",
       "    <tr>\n",
       "      <th>0</th>\n",
       "      <td>540.0</td>\n",
       "      <td>0.0</td>\n",
       "      <td>0.0</td>\n",
       "      <td>162.0</td>\n",
       "      <td>2.5</td>\n",
       "      <td>1040.0</td>\n",
       "      <td>676.0</td>\n",
       "      <td>28</td>\n",
       "    </tr>\n",
       "    <tr>\n",
       "      <th>1</th>\n",
       "      <td>540.0</td>\n",
       "      <td>0.0</td>\n",
       "      <td>0.0</td>\n",
       "      <td>162.0</td>\n",
       "      <td>2.5</td>\n",
       "      <td>1055.0</td>\n",
       "      <td>676.0</td>\n",
       "      <td>28</td>\n",
       "    </tr>\n",
       "    <tr>\n",
       "      <th>2</th>\n",
       "      <td>332.5</td>\n",
       "      <td>142.5</td>\n",
       "      <td>0.0</td>\n",
       "      <td>228.0</td>\n",
       "      <td>0.0</td>\n",
       "      <td>932.0</td>\n",
       "      <td>594.0</td>\n",
       "      <td>270</td>\n",
       "    </tr>\n",
       "    <tr>\n",
       "      <th>3</th>\n",
       "      <td>332.5</td>\n",
       "      <td>142.5</td>\n",
       "      <td>0.0</td>\n",
       "      <td>228.0</td>\n",
       "      <td>0.0</td>\n",
       "      <td>932.0</td>\n",
       "      <td>594.0</td>\n",
       "      <td>365</td>\n",
       "    </tr>\n",
       "    <tr>\n",
       "      <th>4</th>\n",
       "      <td>198.6</td>\n",
       "      <td>132.4</td>\n",
       "      <td>0.0</td>\n",
       "      <td>192.0</td>\n",
       "      <td>0.0</td>\n",
       "      <td>978.4</td>\n",
       "      <td>825.5</td>\n",
       "      <td>360</td>\n",
       "    </tr>\n",
       "  </tbody>\n",
       "</table>\n",
       "</div>"
      ],
      "text/plain": [
       "   Cement  Blast Furnace Slag  Fly Ash  Water  Superplasticizer  \\\n",
       "0   540.0                 0.0      0.0  162.0               2.5   \n",
       "1   540.0                 0.0      0.0  162.0               2.5   \n",
       "2   332.5               142.5      0.0  228.0               0.0   \n",
       "3   332.5               142.5      0.0  228.0               0.0   \n",
       "4   198.6               132.4      0.0  192.0               0.0   \n",
       "\n",
       "   Coarse Aggregate  Fine Aggregate  Age  \n",
       "0            1040.0           676.0   28  \n",
       "1            1055.0           676.0   28  \n",
       "2             932.0           594.0  270  \n",
       "3             932.0           594.0  365  \n",
       "4             978.4           825.5  360  "
      ]
     },
     "execution_count": 5,
     "metadata": {},
     "output_type": "execute_result"
    }
   ],
   "source": [
    "predictors.head()"
   ]
  },
  {
   "cell_type": "code",
   "execution_count": 6,
   "metadata": {},
   "outputs": [
    {
     "data": {
      "text/plain": [
       "0    79.99\n",
       "1    61.89\n",
       "2    40.27\n",
       "3    41.05\n",
       "4    44.30\n",
       "Name: Strength, dtype: float64"
      ]
     },
     "execution_count": 6,
     "metadata": {},
     "output_type": "execute_result"
    }
   ],
   "source": [
    "target.head()"
   ]
  },
  {
   "cell_type": "code",
   "execution_count": 7,
   "metadata": {},
   "outputs": [
    {
     "name": "stderr",
     "output_type": "stream",
     "text": [
      "Using TensorFlow backend.\n",
      "/home/jupyterlab/conda/envs/python/lib/python3.6/site-packages/tensorflow/python/framework/dtypes.py:519: FutureWarning: Passing (type, 1) or '1type' as a synonym of type is deprecated; in a future version of numpy, it will be understood as (type, (1,)) / '(1,)type'.\n",
      "  _np_qint8 = np.dtype([(\"qint8\", np.int8, 1)])\n",
      "/home/jupyterlab/conda/envs/python/lib/python3.6/site-packages/tensorflow/python/framework/dtypes.py:520: FutureWarning: Passing (type, 1) or '1type' as a synonym of type is deprecated; in a future version of numpy, it will be understood as (type, (1,)) / '(1,)type'.\n",
      "  _np_quint8 = np.dtype([(\"quint8\", np.uint8, 1)])\n",
      "/home/jupyterlab/conda/envs/python/lib/python3.6/site-packages/tensorflow/python/framework/dtypes.py:521: FutureWarning: Passing (type, 1) or '1type' as a synonym of type is deprecated; in a future version of numpy, it will be understood as (type, (1,)) / '(1,)type'.\n",
      "  _np_qint16 = np.dtype([(\"qint16\", np.int16, 1)])\n",
      "/home/jupyterlab/conda/envs/python/lib/python3.6/site-packages/tensorflow/python/framework/dtypes.py:522: FutureWarning: Passing (type, 1) or '1type' as a synonym of type is deprecated; in a future version of numpy, it will be understood as (type, (1,)) / '(1,)type'.\n",
      "  _np_quint16 = np.dtype([(\"quint16\", np.uint16, 1)])\n",
      "/home/jupyterlab/conda/envs/python/lib/python3.6/site-packages/tensorflow/python/framework/dtypes.py:523: FutureWarning: Passing (type, 1) or '1type' as a synonym of type is deprecated; in a future version of numpy, it will be understood as (type, (1,)) / '(1,)type'.\n",
      "  _np_qint32 = np.dtype([(\"qint32\", np.int32, 1)])\n",
      "/home/jupyterlab/conda/envs/python/lib/python3.6/site-packages/tensorflow/python/framework/dtypes.py:528: FutureWarning: Passing (type, 1) or '1type' as a synonym of type is deprecated; in a future version of numpy, it will be understood as (type, (1,)) / '(1,)type'.\n",
      "  np_resource = np.dtype([(\"resource\", np.ubyte, 1)])\n"
     ]
    }
   ],
   "source": [
    "import keras"
   ]
  },
  {
   "cell_type": "code",
   "execution_count": 8,
   "metadata": {},
   "outputs": [],
   "source": [
    "from keras.models import Sequential\n",
    "from keras.layers import Dense"
   ]
  },
  {
   "cell_type": "code",
   "execution_count": 9,
   "metadata": {},
   "outputs": [],
   "source": [
    "n_cols = predictors.shape[1] # number of predictors"
   ]
  },
  {
   "cell_type": "code",
   "execution_count": 10,
   "metadata": {},
   "outputs": [],
   "source": [
    "# define regression model\n",
    "def regression_model():\n",
    "    # create model\n",
    "    model = Sequential()\n",
    "    model.add(Dense(10, activation='relu', input_shape=(n_cols,)))\n",
    "    model.add(Dense(1))\n",
    "    \n",
    "    # compile model\n",
    "    model.compile(optimizer='adam', loss='mean_squared_error')\n",
    "    return model"
   ]
  },
  {
   "cell_type": "code",
   "execution_count": 11,
   "metadata": {},
   "outputs": [],
   "source": [
    "# build the model\n",
    "model = regression_model()"
   ]
  },
  {
   "cell_type": "code",
   "execution_count": 12,
   "metadata": {},
   "outputs": [],
   "source": [
    " from sklearn.model_selection import train_test_split"
   ]
  },
  {
   "cell_type": "code",
   "execution_count": 13,
   "metadata": {},
   "outputs": [],
   "source": [
    "X_train, X_test, y_train, y_test = train_test_split(predictors,target, test_size=0.3, random_state=42)"
   ]
  },
  {
   "cell_type": "code",
   "execution_count": 14,
   "metadata": {},
   "outputs": [
    {
     "name": "stdout",
     "output_type": "stream",
     "text": [
      "Epoch 1/50\n",
      "721/721 [==============================] - 1s 943us/step - loss: 2578.1038\n",
      "Epoch 2/50\n",
      "721/721 [==============================] - 0s 420us/step - loss: 1053.6722\n",
      "Epoch 3/50\n",
      "721/721 [==============================] - 0s 355us/step - loss: 748.3988 0s - loss: 807.24\n",
      "Epoch 4/50\n",
      "721/721 [==============================] - 0s 306us/step - loss: 589.9934\n",
      "Epoch 5/50\n",
      "721/721 [==============================] - 0s 279us/step - loss: 488.8121\n",
      "Epoch 6/50\n",
      "721/721 [==============================] - 0s 336us/step - loss: 416.3892\n",
      "Epoch 7/50\n",
      "721/721 [==============================] - 0s 301us/step - loss: 374.3084\n",
      "Epoch 8/50\n",
      "721/721 [==============================] - 0s 326us/step - loss: 335.5412\n",
      "Epoch 9/50\n",
      "721/721 [==============================] - 0s 306us/step - loss: 310.9759\n",
      "Epoch 10/50\n",
      "721/721 [==============================] - 0s 305us/step - loss: 294.3052\n",
      "Epoch 11/50\n",
      "721/721 [==============================] - 0s 356us/step - loss: 280.6666\n",
      "Epoch 12/50\n",
      "721/721 [==============================] - 0s 308us/step - loss: 268.3054\n",
      "Epoch 13/50\n",
      "721/721 [==============================] - 0s 305us/step - loss: 256.5309\n",
      "Epoch 14/50\n",
      "721/721 [==============================] - 0s 358us/step - loss: 247.6361\n",
      "Epoch 15/50\n",
      "721/721 [==============================] - 0s 309us/step - loss: 239.4556\n",
      "Epoch 16/50\n",
      "721/721 [==============================] - 2s 3ms/step - loss: 233.0559\n",
      "Epoch 17/50\n",
      "721/721 [==============================] - 0s 451us/step - loss: 224.0971\n",
      "Epoch 18/50\n",
      "721/721 [==============================] - 0s 329us/step - loss: 217.3344\n",
      "Epoch 19/50\n",
      "721/721 [==============================] - 0s 306us/step - loss: 210.6841\n",
      "Epoch 20/50\n",
      "721/721 [==============================] - 0s 367us/step - loss: 204.4248\n",
      "Epoch 21/50\n",
      "721/721 [==============================] - 0s 381us/step - loss: 199.8075\n",
      "Epoch 22/50\n",
      "721/721 [==============================] - 0s 414us/step - loss: 194.9350\n",
      "Epoch 23/50\n",
      "721/721 [==============================] - 0s 691us/step - loss: 193.3248\n",
      "Epoch 24/50\n",
      "721/721 [==============================] - 0s 553us/step - loss: 185.5016\n",
      "Epoch 25/50\n",
      "721/721 [==============================] - 0s 529us/step - loss: 178.9962\n",
      "Epoch 26/50\n",
      "721/721 [==============================] - 0s 333us/step - loss: 174.0797\n",
      "Epoch 27/50\n",
      "721/721 [==============================] - 0s 496us/step - loss: 168.8179\n",
      "Epoch 28/50\n",
      "721/721 [==============================] - 0s 305us/step - loss: 162.7672\n",
      "Epoch 29/50\n",
      "721/721 [==============================] - 0s 360us/step - loss: 159.7569\n",
      "Epoch 30/50\n",
      "721/721 [==============================] - 0s 359us/step - loss: 153.9385\n",
      "Epoch 31/50\n",
      "721/721 [==============================] - 0s 277us/step - loss: 148.7222\n",
      "Epoch 32/50\n",
      "721/721 [==============================] - 0s 310us/step - loss: 143.4529\n",
      "Epoch 33/50\n",
      "721/721 [==============================] - 0s 283us/step - loss: 138.1513\n",
      "Epoch 34/50\n",
      "721/721 [==============================] - 0s 354us/step - loss: 146.1020 0s - loss: 147.109\n",
      "Epoch 35/50\n",
      "721/721 [==============================] - 0s 307us/step - loss: 135.9530\n",
      "Epoch 36/50\n",
      "721/721 [==============================] - 0s 412us/step - loss: 130.3949\n",
      "Epoch 37/50\n",
      "721/721 [==============================] - 0s 499us/step - loss: 126.1549\n",
      "Epoch 38/50\n",
      "721/721 [==============================] - 0s 388us/step - loss: 121.3508\n",
      "Epoch 39/50\n",
      "721/721 [==============================] - 0s 312us/step - loss: 117.7599\n",
      "Epoch 40/50\n",
      "721/721 [==============================] - 0s 388us/step - loss: 115.4717\n",
      "Epoch 41/50\n",
      "721/721 [==============================] - 0s 415us/step - loss: 111.8433\n",
      "Epoch 42/50\n",
      "721/721 [==============================] - 0s 415us/step - loss: 108.7861\n",
      "Epoch 43/50\n",
      "721/721 [==============================] - 0s 357us/step - loss: 107.4603\n",
      "Epoch 44/50\n",
      "721/721 [==============================] - 0s 313us/step - loss: 106.0231\n",
      "Epoch 45/50\n",
      "721/721 [==============================] - 0s 335us/step - loss: 100.7855 0s - loss: 101.371\n",
      "Epoch 46/50\n",
      "721/721 [==============================] - 0s 305us/step - loss: 100.1740\n",
      "Epoch 47/50\n",
      "721/721 [==============================] - 0s 307us/step - loss: 97.0954\n",
      "Epoch 48/50\n",
      "721/721 [==============================] - 0s 331us/step - loss: 95.1895\n",
      "Epoch 49/50\n",
      "721/721 [==============================] - 0s 303us/step - loss: 93.0900\n",
      "Epoch 50/50\n",
      "721/721 [==============================] - 0s 307us/step - loss: 91.6379\n"
     ]
    },
    {
     "data": {
      "text/plain": [
       "<keras.callbacks.History at 0x7f1074cea588>"
      ]
     },
     "execution_count": 14,
     "metadata": {},
     "output_type": "execute_result"
    }
   ],
   "source": [
    "model.fit(X_train, y_train, epochs=50, verbose=1)\n"
   ]
  },
  {
   "cell_type": "code",
   "execution_count": 15,
   "metadata": {},
   "outputs": [
    {
     "name": "stdout",
     "output_type": "stream",
     "text": [
      "309/309 [==============================] - 0s 371us/step\n"
     ]
    },
    {
     "data": {
      "text/plain": [
       "98.34330996417691"
      ]
     },
     "execution_count": 15,
     "metadata": {},
     "output_type": "execute_result"
    }
   ],
   "source": [
    "loss_val = model.evaluate(X_test, y_test)\n",
    "y_pred = model.predict(X_test)\n",
    "loss_val"
   ]
  },
  {
   "cell_type": "code",
   "execution_count": 16,
   "metadata": {},
   "outputs": [],
   "source": [
    "from sklearn.metrics import mean_squared_error"
   ]
  },
  {
   "cell_type": "code",
   "execution_count": 17,
   "metadata": {},
   "outputs": [
    {
     "name": "stdout",
     "output_type": "stream",
     "text": [
      "98.34331094629914 0.0\n"
     ]
    }
   ],
   "source": [
    "mean_square_error = mean_squared_error(y_test, y_pred)\n",
    "mean = np.mean(mean_square_error)\n",
    "standard_deviation = np.std(mean_square_error)\n",
    "print(mean, standard_deviation)"
   ]
  },
  {
   "cell_type": "code",
   "execution_count": 18,
   "metadata": {},
   "outputs": [
    {
     "name": "stdout",
     "output_type": "stream",
     "text": [
      "MSE 1: 67.62754189698056\n",
      "MSE 2: 80.40849160993756\n",
      "MSE 3: 59.80431546208156\n",
      "MSE 4: 68.70672319776418\n",
      "MSE 5: 69.21882305947707\n",
      "MSE 6: 69.92088848718933\n",
      "MSE 7: 78.37481348722883\n",
      "MSE 8: 57.55115294225008\n",
      "MSE 9: 66.11877626585729\n",
      "MSE 10: 68.46036593736568\n",
      "MSE 11: 56.95038256598908\n",
      "MSE 12: 64.89499391475542\n",
      "MSE 13: 70.18204208176499\n",
      "MSE 14: 67.64140263035846\n",
      "MSE 15: 64.07536977625973\n",
      "MSE 16: 52.56124615592093\n",
      "MSE 17: 65.52160181582553\n",
      "MSE 18: 55.17735947297229\n",
      "MSE 19: 54.960820293735146\n",
      "MSE 20: 65.52328806016051\n",
      "MSE 21: 56.51148734972315\n",
      "MSE 22: 60.423828125\n",
      "MSE 23: 50.673406804649574\n",
      "MSE 24: 56.38939893901541\n",
      "MSE 25: 55.35031442734802\n",
      "MSE 26: 51.61849412640321\n",
      "MSE 27: 48.27316647131466\n",
      "MSE 28: 52.13162745009734\n",
      "MSE 29: 54.91484896959224\n",
      "MSE 30: 53.99560312314327\n",
      "MSE 31: 48.13392625580328\n",
      "MSE 32: 39.75223379536354\n",
      "MSE 33: 43.390572878149335\n",
      "MSE 34: 45.44789249457202\n",
      "MSE 35: 47.48283749182247\n",
      "MSE 36: 49.58089674174978\n",
      "MSE 37: 49.971551321085215\n",
      "MSE 38: 49.35642104164296\n",
      "MSE 39: 49.73585252237166\n",
      "MSE 40: 38.650025130089816\n",
      "MSE 41: 58.532881887985276\n",
      "MSE 42: 42.25472618769673\n",
      "MSE 43: 45.405318892889426\n",
      "MSE 44: 50.9681168590163\n",
      "MSE 45: 48.909678338800816\n",
      "MSE 46: 52.770528836543505\n",
      "MSE 47: 48.98359545612026\n",
      "MSE 48: 48.419077271396674\n",
      "MSE 49: 47.993204073612745\n",
      "MSE 50: 47.0816650143719\n",
      "\n",
      "\n",
      "Below is the mean and standard deviation of 50 mean squared errors without normalized data. Total number of epochs for each training is: 50\n",
      "\n",
      "Mean: 55.935671246665294\n",
      "Standard Deviation: 9.628334175115356\n"
     ]
    }
   ],
   "source": [
    "total_mean_squared_errors = 50\n",
    "epochs = 50\n",
    "mean_squared_errors = []\n",
    "for i in range(0, total_mean_squared_errors):\n",
    "    X_train, X_test, y_train, y_test = train_test_split(predictors, target, test_size=0.3, random_state=i)\n",
    "    model.fit(X_train, y_train, epochs=epochs, verbose=0)\n",
    "    MSE = model.evaluate(X_test, y_test, verbose=0)\n",
    "    print(\"MSE \"+str(i+1)+\": \"+str(MSE))\n",
    "    y_pred = model.predict(X_test)\n",
    "    mean_square_error = mean_squared_error(y_test, y_pred)\n",
    "    mean_squared_errors.append(mean_square_error)\n",
    "\n",
    "mean_squared_errors = np.array(mean_squared_errors)\n",
    "mean = np.mean(mean_squared_errors)\n",
    "standard_deviation = np.std(mean_squared_errors)\n",
    "\n",
    "print('\\n')\n",
    "print(\"Below is the mean and standard deviation of \" +str(total_mean_squared_errors) + \" mean squared errors without normalized data. Total number of epochs for each training is: \" +str(epochs) + \"\\n\")\n",
    "print(\"Mean: \"+str(mean))\n",
    "print(\"Standard Deviation: \"+str(standard_deviation))"
   ]
  },
  {
   "cell_type": "code",
   "execution_count": null,
   "metadata": {},
   "outputs": [],
   "source": []
  },
  {
   "cell_type": "code",
   "execution_count": null,
   "metadata": {},
   "outputs": [],
   "source": []
  },
  {
   "cell_type": "code",
   "execution_count": null,
   "metadata": {},
   "outputs": [],
   "source": []
  },
  {
   "cell_type": "code",
   "execution_count": null,
   "metadata": {},
   "outputs": [],
   "source": []
  }
 ],
 "metadata": {
  "kernelspec": {
   "display_name": "Python",
   "language": "python",
   "name": "conda-env-python-py"
  },
  "language_info": {
   "codemirror_mode": {
    "name": "ipython",
    "version": 3
   },
   "file_extension": ".py",
   "mimetype": "text/x-python",
   "name": "python",
   "nbconvert_exporter": "python",
   "pygments_lexer": "ipython3",
   "version": "3.6.11"
  }
 },
 "nbformat": 4,
 "nbformat_minor": 4
}
