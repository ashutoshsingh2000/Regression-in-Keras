{
 "cells": [
  {
   "cell_type": "markdown",
   "metadata": {},
   "source": [
    "Part C"
   ]
  },
  {
   "cell_type": "markdown",
   "metadata": {},
   "source": [
    "Use the Keras library to build a neural network with the following:\n",
    "\n",
    "- One hidden layer of 10 nodes, and a ReLU activation function\n",
    "\n",
    "- Use the adam optimizer and the mean squared error as the loss function.\n",
    "\n",
    "1. Randomly split the data into a training and test sets by holding 30% of the data for testing. You can use the train_test_splithelper function from Scikit-learn.\n",
    "\n",
    "2. Train the model on the training data using 50 epochs.\n",
    "\n",
    "3. Evaluate the model on the test data and compute the mean squared error between the predicted concrete strength and the actual concrete strength. You can use the mean_squared_error function from Scikit-learn.\n",
    "\n",
    "4. Repeat steps 1 - 3, 50 times, i.e., create a list of 50 mean squared errors.\n",
    "\n",
    "5. Report the mean and the standard deviation of the mean squared errors."
   ]
  },
  {
   "cell_type": "markdown",
   "metadata": {},
   "source": [
    "C. Increate the number of epochs \n",
    "Repeat Part B but use 100 epochs this time for training.\n",
    "How does the mean of the mean squared errors compare to that from Step B?"
   ]
  },
  {
   "cell_type": "code",
   "execution_count": 1,
   "metadata": {},
   "outputs": [],
   "source": [
    "import pandas as pd\n",
    "import numpy as np"
   ]
  },
  {
   "cell_type": "code",
   "execution_count": 2,
   "metadata": {},
   "outputs": [
    {
     "data": {
      "text/html": [
       "<div>\n",
       "<style scoped>\n",
       "    .dataframe tbody tr th:only-of-type {\n",
       "        vertical-align: middle;\n",
       "    }\n",
       "\n",
       "    .dataframe tbody tr th {\n",
       "        vertical-align: top;\n",
       "    }\n",
       "\n",
       "    .dataframe thead th {\n",
       "        text-align: right;\n",
       "    }\n",
       "</style>\n",
       "<table border=\"1\" class=\"dataframe\">\n",
       "  <thead>\n",
       "    <tr style=\"text-align: right;\">\n",
       "      <th></th>\n",
       "      <th>Cement</th>\n",
       "      <th>Blast Furnace Slag</th>\n",
       "      <th>Fly Ash</th>\n",
       "      <th>Water</th>\n",
       "      <th>Superplasticizer</th>\n",
       "      <th>Coarse Aggregate</th>\n",
       "      <th>Fine Aggregate</th>\n",
       "      <th>Age</th>\n",
       "      <th>Strength</th>\n",
       "    </tr>\n",
       "  </thead>\n",
       "  <tbody>\n",
       "    <tr>\n",
       "      <th>0</th>\n",
       "      <td>540.0</td>\n",
       "      <td>0.0</td>\n",
       "      <td>0.0</td>\n",
       "      <td>162.0</td>\n",
       "      <td>2.5</td>\n",
       "      <td>1040.0</td>\n",
       "      <td>676.0</td>\n",
       "      <td>28</td>\n",
       "      <td>79.99</td>\n",
       "    </tr>\n",
       "    <tr>\n",
       "      <th>1</th>\n",
       "      <td>540.0</td>\n",
       "      <td>0.0</td>\n",
       "      <td>0.0</td>\n",
       "      <td>162.0</td>\n",
       "      <td>2.5</td>\n",
       "      <td>1055.0</td>\n",
       "      <td>676.0</td>\n",
       "      <td>28</td>\n",
       "      <td>61.89</td>\n",
       "    </tr>\n",
       "    <tr>\n",
       "      <th>2</th>\n",
       "      <td>332.5</td>\n",
       "      <td>142.5</td>\n",
       "      <td>0.0</td>\n",
       "      <td>228.0</td>\n",
       "      <td>0.0</td>\n",
       "      <td>932.0</td>\n",
       "      <td>594.0</td>\n",
       "      <td>270</td>\n",
       "      <td>40.27</td>\n",
       "    </tr>\n",
       "    <tr>\n",
       "      <th>3</th>\n",
       "      <td>332.5</td>\n",
       "      <td>142.5</td>\n",
       "      <td>0.0</td>\n",
       "      <td>228.0</td>\n",
       "      <td>0.0</td>\n",
       "      <td>932.0</td>\n",
       "      <td>594.0</td>\n",
       "      <td>365</td>\n",
       "      <td>41.05</td>\n",
       "    </tr>\n",
       "    <tr>\n",
       "      <th>4</th>\n",
       "      <td>198.6</td>\n",
       "      <td>132.4</td>\n",
       "      <td>0.0</td>\n",
       "      <td>192.0</td>\n",
       "      <td>0.0</td>\n",
       "      <td>978.4</td>\n",
       "      <td>825.5</td>\n",
       "      <td>360</td>\n",
       "      <td>44.30</td>\n",
       "    </tr>\n",
       "  </tbody>\n",
       "</table>\n",
       "</div>"
      ],
      "text/plain": [
       "   Cement  Blast Furnace Slag  Fly Ash  Water  Superplasticizer  \\\n",
       "0   540.0                 0.0      0.0  162.0               2.5   \n",
       "1   540.0                 0.0      0.0  162.0               2.5   \n",
       "2   332.5               142.5      0.0  228.0               0.0   \n",
       "3   332.5               142.5      0.0  228.0               0.0   \n",
       "4   198.6               132.4      0.0  192.0               0.0   \n",
       "\n",
       "   Coarse Aggregate  Fine Aggregate  Age  Strength  \n",
       "0            1040.0           676.0   28     79.99  \n",
       "1            1055.0           676.0   28     61.89  \n",
       "2             932.0           594.0  270     40.27  \n",
       "3             932.0           594.0  365     41.05  \n",
       "4             978.4           825.5  360     44.30  "
      ]
     },
     "execution_count": 2,
     "metadata": {},
     "output_type": "execute_result"
    }
   ],
   "source": [
    "concrete_data = pd.read_csv('https://s3-api.us-geo.objectstorage.softlayer.net/cf-courses-data/CognitiveClass/DL0101EN/labs/data/concrete_data.csv')\n",
    "concrete_data.head()"
   ]
  },
  {
   "cell_type": "code",
   "execution_count": 3,
   "metadata": {},
   "outputs": [
    {
     "data": {
      "text/plain": [
       "Cement                0\n",
       "Blast Furnace Slag    0\n",
       "Fly Ash               0\n",
       "Water                 0\n",
       "Superplasticizer      0\n",
       "Coarse Aggregate      0\n",
       "Fine Aggregate        0\n",
       "Age                   0\n",
       "Strength              0\n",
       "dtype: int64"
      ]
     },
     "execution_count": 3,
     "metadata": {},
     "output_type": "execute_result"
    }
   ],
   "source": [
    "concrete_data.isnull().sum()"
   ]
  },
  {
   "cell_type": "code",
   "execution_count": 4,
   "metadata": {},
   "outputs": [],
   "source": [
    "concrete_data_columns = concrete_data.columns\n",
    "\n",
    "predictors = concrete_data[concrete_data_columns[concrete_data_columns != 'Strength']] # all columns except Strength\n",
    "target = concrete_data['Strength'] # Strength column"
   ]
  },
  {
   "cell_type": "code",
   "execution_count": 5,
   "metadata": {},
   "outputs": [
    {
     "data": {
      "text/html": [
       "<div>\n",
       "<style scoped>\n",
       "    .dataframe tbody tr th:only-of-type {\n",
       "        vertical-align: middle;\n",
       "    }\n",
       "\n",
       "    .dataframe tbody tr th {\n",
       "        vertical-align: top;\n",
       "    }\n",
       "\n",
       "    .dataframe thead th {\n",
       "        text-align: right;\n",
       "    }\n",
       "</style>\n",
       "<table border=\"1\" class=\"dataframe\">\n",
       "  <thead>\n",
       "    <tr style=\"text-align: right;\">\n",
       "      <th></th>\n",
       "      <th>Cement</th>\n",
       "      <th>Blast Furnace Slag</th>\n",
       "      <th>Fly Ash</th>\n",
       "      <th>Water</th>\n",
       "      <th>Superplasticizer</th>\n",
       "      <th>Coarse Aggregate</th>\n",
       "      <th>Fine Aggregate</th>\n",
       "      <th>Age</th>\n",
       "    </tr>\n",
       "  </thead>\n",
       "  <tbody>\n",
       "    <tr>\n",
       "      <th>0</th>\n",
       "      <td>540.0</td>\n",
       "      <td>0.0</td>\n",
       "      <td>0.0</td>\n",
       "      <td>162.0</td>\n",
       "      <td>2.5</td>\n",
       "      <td>1040.0</td>\n",
       "      <td>676.0</td>\n",
       "      <td>28</td>\n",
       "    </tr>\n",
       "    <tr>\n",
       "      <th>1</th>\n",
       "      <td>540.0</td>\n",
       "      <td>0.0</td>\n",
       "      <td>0.0</td>\n",
       "      <td>162.0</td>\n",
       "      <td>2.5</td>\n",
       "      <td>1055.0</td>\n",
       "      <td>676.0</td>\n",
       "      <td>28</td>\n",
       "    </tr>\n",
       "    <tr>\n",
       "      <th>2</th>\n",
       "      <td>332.5</td>\n",
       "      <td>142.5</td>\n",
       "      <td>0.0</td>\n",
       "      <td>228.0</td>\n",
       "      <td>0.0</td>\n",
       "      <td>932.0</td>\n",
       "      <td>594.0</td>\n",
       "      <td>270</td>\n",
       "    </tr>\n",
       "    <tr>\n",
       "      <th>3</th>\n",
       "      <td>332.5</td>\n",
       "      <td>142.5</td>\n",
       "      <td>0.0</td>\n",
       "      <td>228.0</td>\n",
       "      <td>0.0</td>\n",
       "      <td>932.0</td>\n",
       "      <td>594.0</td>\n",
       "      <td>365</td>\n",
       "    </tr>\n",
       "    <tr>\n",
       "      <th>4</th>\n",
       "      <td>198.6</td>\n",
       "      <td>132.4</td>\n",
       "      <td>0.0</td>\n",
       "      <td>192.0</td>\n",
       "      <td>0.0</td>\n",
       "      <td>978.4</td>\n",
       "      <td>825.5</td>\n",
       "      <td>360</td>\n",
       "    </tr>\n",
       "  </tbody>\n",
       "</table>\n",
       "</div>"
      ],
      "text/plain": [
       "   Cement  Blast Furnace Slag  Fly Ash  Water  Superplasticizer  \\\n",
       "0   540.0                 0.0      0.0  162.0               2.5   \n",
       "1   540.0                 0.0      0.0  162.0               2.5   \n",
       "2   332.5               142.5      0.0  228.0               0.0   \n",
       "3   332.5               142.5      0.0  228.0               0.0   \n",
       "4   198.6               132.4      0.0  192.0               0.0   \n",
       "\n",
       "   Coarse Aggregate  Fine Aggregate  Age  \n",
       "0            1040.0           676.0   28  \n",
       "1            1055.0           676.0   28  \n",
       "2             932.0           594.0  270  \n",
       "3             932.0           594.0  365  \n",
       "4             978.4           825.5  360  "
      ]
     },
     "execution_count": 5,
     "metadata": {},
     "output_type": "execute_result"
    }
   ],
   "source": [
    "predictors.head()"
   ]
  },
  {
   "cell_type": "code",
   "execution_count": 6,
   "metadata": {},
   "outputs": [
    {
     "data": {
      "text/plain": [
       "0    79.99\n",
       "1    61.89\n",
       "2    40.27\n",
       "3    41.05\n",
       "4    44.30\n",
       "Name: Strength, dtype: float64"
      ]
     },
     "execution_count": 6,
     "metadata": {},
     "output_type": "execute_result"
    }
   ],
   "source": [
    "target.head()"
   ]
  },
  {
   "cell_type": "code",
   "execution_count": 7,
   "metadata": {},
   "outputs": [
    {
     "name": "stderr",
     "output_type": "stream",
     "text": [
      "Using TensorFlow backend.\n",
      "/home/jupyterlab/conda/envs/python/lib/python3.6/site-packages/tensorflow/python/framework/dtypes.py:519: FutureWarning: Passing (type, 1) or '1type' as a synonym of type is deprecated; in a future version of numpy, it will be understood as (type, (1,)) / '(1,)type'.\n",
      "  _np_qint8 = np.dtype([(\"qint8\", np.int8, 1)])\n",
      "/home/jupyterlab/conda/envs/python/lib/python3.6/site-packages/tensorflow/python/framework/dtypes.py:520: FutureWarning: Passing (type, 1) or '1type' as a synonym of type is deprecated; in a future version of numpy, it will be understood as (type, (1,)) / '(1,)type'.\n",
      "  _np_quint8 = np.dtype([(\"quint8\", np.uint8, 1)])\n",
      "/home/jupyterlab/conda/envs/python/lib/python3.6/site-packages/tensorflow/python/framework/dtypes.py:521: FutureWarning: Passing (type, 1) or '1type' as a synonym of type is deprecated; in a future version of numpy, it will be understood as (type, (1,)) / '(1,)type'.\n",
      "  _np_qint16 = np.dtype([(\"qint16\", np.int16, 1)])\n",
      "/home/jupyterlab/conda/envs/python/lib/python3.6/site-packages/tensorflow/python/framework/dtypes.py:522: FutureWarning: Passing (type, 1) or '1type' as a synonym of type is deprecated; in a future version of numpy, it will be understood as (type, (1,)) / '(1,)type'.\n",
      "  _np_quint16 = np.dtype([(\"quint16\", np.uint16, 1)])\n",
      "/home/jupyterlab/conda/envs/python/lib/python3.6/site-packages/tensorflow/python/framework/dtypes.py:523: FutureWarning: Passing (type, 1) or '1type' as a synonym of type is deprecated; in a future version of numpy, it will be understood as (type, (1,)) / '(1,)type'.\n",
      "  _np_qint32 = np.dtype([(\"qint32\", np.int32, 1)])\n",
      "/home/jupyterlab/conda/envs/python/lib/python3.6/site-packages/tensorflow/python/framework/dtypes.py:528: FutureWarning: Passing (type, 1) or '1type' as a synonym of type is deprecated; in a future version of numpy, it will be understood as (type, (1,)) / '(1,)type'.\n",
      "  np_resource = np.dtype([(\"resource\", np.ubyte, 1)])\n"
     ]
    }
   ],
   "source": [
    "import keras"
   ]
  },
  {
   "cell_type": "code",
   "execution_count": 8,
   "metadata": {},
   "outputs": [],
   "source": [
    "from keras.models import Sequential\n",
    "from keras.layers import Dense"
   ]
  },
  {
   "cell_type": "code",
   "execution_count": 9,
   "metadata": {},
   "outputs": [],
   "source": [
    "n_cols = predictors.shape[1] # number of predictors"
   ]
  },
  {
   "cell_type": "code",
   "execution_count": 10,
   "metadata": {},
   "outputs": [],
   "source": [
    "# define regression model\n",
    "def regression_model():\n",
    "    # create model\n",
    "    model = Sequential()\n",
    "    model.add(Dense(10, activation='relu', input_shape=(n_cols,)))\n",
    "    model.add(Dense(1))\n",
    "    \n",
    "    # compile model\n",
    "    model.compile(optimizer='adam', loss='mean_squared_error')\n",
    "    return model"
   ]
  },
  {
   "cell_type": "code",
   "execution_count": 11,
   "metadata": {},
   "outputs": [],
   "source": [
    "# build the model\n",
    "model = regression_model()"
   ]
  },
  {
   "cell_type": "code",
   "execution_count": 12,
   "metadata": {},
   "outputs": [],
   "source": [
    " from sklearn.model_selection import train_test_split"
   ]
  },
  {
   "cell_type": "code",
   "execution_count": 13,
   "metadata": {},
   "outputs": [],
   "source": [
    "X_train, X_test, y_train, y_test = train_test_split(predictors,target, test_size=0.3, random_state=42)"
   ]
  },
  {
   "cell_type": "code",
   "execution_count": 14,
   "metadata": {},
   "outputs": [
    {
     "name": "stdout",
     "output_type": "stream",
     "text": [
      "Epoch 1/100\n",
      "721/721 [==============================] - 1s 774us/step - loss: 9302.9135\n",
      "Epoch 2/100\n",
      "721/721 [==============================] - 0s 270us/step - loss: 1750.8918\n",
      "Epoch 3/100\n",
      "721/721 [==============================] - 0s 305us/step - loss: 1091.3667\n",
      "Epoch 4/100\n",
      "721/721 [==============================] - 0s 306us/step - loss: 784.3107\n",
      "Epoch 5/100\n",
      "721/721 [==============================] - 0s 331us/step - loss: 650.2758\n",
      "Epoch 6/100\n",
      "721/721 [==============================] - 0s 334us/step - loss: 562.6599\n",
      "Epoch 7/100\n",
      "721/721 [==============================] - 0s 327us/step - loss: 503.1640\n",
      "Epoch 8/100\n",
      "721/721 [==============================] - 0s 331us/step - loss: 456.8317\n",
      "Epoch 9/100\n",
      "721/721 [==============================] - 0s 386us/step - loss: 423.4161\n",
      "Epoch 10/100\n",
      "721/721 [==============================] - 0s 333us/step - loss: 399.4603\n",
      "Epoch 11/100\n",
      "721/721 [==============================] - 0s 414us/step - loss: 380.9932\n",
      "Epoch 12/100\n",
      "721/721 [==============================] - 0s 308us/step - loss: 366.0196\n",
      "Epoch 13/100\n",
      "721/721 [==============================] - 0s 382us/step - loss: 353.4352\n",
      "Epoch 14/100\n",
      "721/721 [==============================] - 0s 362us/step - loss: 344.6933\n",
      "Epoch 15/100\n",
      "721/721 [==============================] - 0s 330us/step - loss: 337.8031\n",
      "Epoch 16/100\n",
      "721/721 [==============================] - 0s 389us/step - loss: 326.5415\n",
      "Epoch 17/100\n",
      "721/721 [==============================] - 0s 363us/step - loss: 319.2758\n",
      "Epoch 18/100\n",
      "721/721 [==============================] - 0s 356us/step - loss: 312.6440\n",
      "Epoch 19/100\n",
      "721/721 [==============================] - 0s 422us/step - loss: 304.9496\n",
      "Epoch 20/100\n",
      "721/721 [==============================] - 0s 436us/step - loss: 298.7080\n",
      "Epoch 21/100\n",
      "721/721 [==============================] - 0s 336us/step - loss: 292.3168\n",
      "Epoch 22/100\n",
      "721/721 [==============================] - 0s 310us/step - loss: 285.3860\n",
      "Epoch 23/100\n",
      "721/721 [==============================] - 0s 355us/step - loss: 279.2467\n",
      "Epoch 24/100\n",
      "721/721 [==============================] - 0s 331us/step - loss: 273.3226\n",
      "Epoch 25/100\n",
      "721/721 [==============================] - 0s 331us/step - loss: 266.1083\n",
      "Epoch 26/100\n",
      "721/721 [==============================] - 0s 311us/step - loss: 260.6531\n",
      "Epoch 27/100\n",
      "721/721 [==============================] - 0s 387us/step - loss: 254.0525\n",
      "Epoch 28/100\n",
      "721/721 [==============================] - 0s 337us/step - loss: 246.9784\n",
      "Epoch 29/100\n",
      "721/721 [==============================] - 0s 437us/step - loss: 240.5972\n",
      "Epoch 30/100\n",
      "721/721 [==============================] - 0s 303us/step - loss: 234.2906\n",
      "Epoch 31/100\n",
      "721/721 [==============================] - 0s 311us/step - loss: 227.8446\n",
      "Epoch 32/100\n",
      "721/721 [==============================] - 0s 307us/step - loss: 221.5697\n",
      "Epoch 33/100\n",
      "721/721 [==============================] - 0s 331us/step - loss: 214.2096\n",
      "Epoch 34/100\n",
      "721/721 [==============================] - 0s 387us/step - loss: 208.6598\n",
      "Epoch 35/100\n",
      "721/721 [==============================] - 0s 357us/step - loss: 202.1433\n",
      "Epoch 36/100\n",
      "721/721 [==============================] - 0s 309us/step - loss: 195.4282\n",
      "Epoch 37/100\n",
      "721/721 [==============================] - 0s 330us/step - loss: 189.4383\n",
      "Epoch 38/100\n",
      "721/721 [==============================] - 0s 283us/step - loss: 184.4826\n",
      "Epoch 39/100\n",
      "721/721 [==============================] - 0s 327us/step - loss: 184.6491\n",
      "Epoch 40/100\n",
      "721/721 [==============================] - 0s 250us/step - loss: 178.0673\n",
      "Epoch 41/100\n",
      "721/721 [==============================] - 0s 382us/step - loss: 174.4516\n",
      "Epoch 42/100\n",
      "721/721 [==============================] - 0s 359us/step - loss: 172.1812\n",
      "Epoch 43/100\n",
      "721/721 [==============================] - 0s 367us/step - loss: 167.8829\n",
      "Epoch 44/100\n",
      "721/721 [==============================] - 0s 353us/step - loss: 165.9075\n",
      "Epoch 45/100\n",
      "721/721 [==============================] - 0s 300us/step - loss: 164.0425\n",
      "Epoch 46/100\n",
      "721/721 [==============================] - 0s 359us/step - loss: 160.9576\n",
      "Epoch 47/100\n",
      "721/721 [==============================] - 0s 361us/step - loss: 159.3458 0s - loss: 171.\n",
      "Epoch 48/100\n",
      "721/721 [==============================] - 0s 303us/step - loss: 157.1152\n",
      "Epoch 49/100\n",
      "721/721 [==============================] - 0s 329us/step - loss: 152.1521\n",
      "Epoch 50/100\n",
      "721/721 [==============================] - 0s 308us/step - loss: 147.9589\n",
      "Epoch 51/100\n",
      "721/721 [==============================] - 0s 382us/step - loss: 146.4302\n",
      "Epoch 52/100\n",
      "721/721 [==============================] - 0s 281us/step - loss: 143.1239\n",
      "Epoch 53/100\n",
      "721/721 [==============================] - 0s 331us/step - loss: 140.1765\n",
      "Epoch 54/100\n",
      "721/721 [==============================] - 0s 473us/step - loss: 139.4407\n",
      "Epoch 55/100\n",
      "721/721 [==============================] - 0s 335us/step - loss: 136.8556\n",
      "Epoch 56/100\n",
      "721/721 [==============================] - 0s 382us/step - loss: 133.7392\n",
      "Epoch 57/100\n",
      "721/721 [==============================] - 0s 416us/step - loss: 132.2942\n",
      "Epoch 58/100\n",
      "721/721 [==============================] - 0s 416us/step - loss: 130.5033\n",
      "Epoch 59/100\n",
      "721/721 [==============================] - 0s 394us/step - loss: 128.2871\n",
      "Epoch 60/100\n",
      "721/721 [==============================] - 0s 329us/step - loss: 126.9526\n",
      "Epoch 61/100\n",
      "721/721 [==============================] - 0s 301us/step - loss: 125.6094\n",
      "Epoch 62/100\n",
      "721/721 [==============================] - 0s 441us/step - loss: 126.5399\n",
      "Epoch 63/100\n",
      "721/721 [==============================] - 0s 331us/step - loss: 122.5368\n",
      "Epoch 64/100\n",
      "721/721 [==============================] - 0s 389us/step - loss: 123.3630\n",
      "Epoch 65/100\n",
      "721/721 [==============================] - 0s 327us/step - loss: 121.4108\n",
      "Epoch 66/100\n",
      "721/721 [==============================] - 0s 335us/step - loss: 120.7151\n",
      "Epoch 67/100\n",
      "721/721 [==============================] - 0s 329us/step - loss: 120.6909\n",
      "Epoch 68/100\n",
      "721/721 [==============================] - 0s 330us/step - loss: 118.8738\n",
      "Epoch 69/100\n",
      "721/721 [==============================] - 0s 307us/step - loss: 119.9986\n",
      "Epoch 70/100\n",
      "721/721 [==============================] - 0s 333us/step - loss: 118.0647\n",
      "Epoch 71/100\n",
      "721/721 [==============================] - 0s 355us/step - loss: 117.0625\n",
      "Epoch 72/100\n",
      "721/721 [==============================] - 0s 306us/step - loss: 117.6089\n",
      "Epoch 73/100\n",
      "721/721 [==============================] - 0s 330us/step - loss: 115.5358\n",
      "Epoch 74/100\n",
      "721/721 [==============================] - 0s 359us/step - loss: 114.9069\n",
      "Epoch 75/100\n",
      "721/721 [==============================] - 0s 308us/step - loss: 114.2661\n",
      "Epoch 76/100\n",
      "721/721 [==============================] - 0s 328us/step - loss: 113.2221\n",
      "Epoch 77/100\n",
      "721/721 [==============================] - 0s 329us/step - loss: 113.5865\n",
      "Epoch 78/100\n",
      "721/721 [==============================] - 0s 309us/step - loss: 112.5620\n",
      "Epoch 79/100\n",
      "721/721 [==============================] - 0s 301us/step - loss: 111.5446\n",
      "Epoch 80/100\n",
      "721/721 [==============================] - 0s 332us/step - loss: 112.4176\n",
      "Epoch 81/100\n",
      "721/721 [==============================] - 0s 497us/step - loss: 111.2753\n",
      "Epoch 82/100\n",
      "721/721 [==============================] - 0s 416us/step - loss: 110.2353\n",
      "Epoch 83/100\n",
      "721/721 [==============================] - 0s 333us/step - loss: 110.7782\n",
      "Epoch 84/100\n",
      "721/721 [==============================] - 0s 414us/step - loss: 111.7866\n",
      "Epoch 85/100\n",
      "721/721 [==============================] - 0s 384us/step - loss: 110.0604\n",
      "Epoch 86/100\n",
      "721/721 [==============================] - 0s 306us/step - loss: 108.5602\n",
      "Epoch 87/100\n",
      "721/721 [==============================] - 0s 413us/step - loss: 109.6499\n",
      "Epoch 88/100\n",
      "721/721 [==============================] - 0s 528us/step - loss: 109.9562\n",
      "Epoch 89/100\n",
      "721/721 [==============================] - 0s 334us/step - loss: 107.9400\n",
      "Epoch 90/100\n",
      "721/721 [==============================] - 0s 382us/step - loss: 111.1353\n",
      "Epoch 91/100\n",
      "721/721 [==============================] - 0s 305us/step - loss: 107.6498\n",
      "Epoch 92/100\n",
      "721/721 [==============================] - 0s 307us/step - loss: 107.9021\n",
      "Epoch 93/100\n",
      "721/721 [==============================] - 0s 383us/step - loss: 106.8590\n",
      "Epoch 94/100\n",
      "721/721 [==============================] - 0s 304us/step - loss: 106.2824\n",
      "Epoch 95/100\n",
      "721/721 [==============================] - 0s 303us/step - loss: 105.7515\n",
      "Epoch 96/100\n",
      "721/721 [==============================] - 0s 284us/step - loss: 107.1883\n",
      "Epoch 97/100\n",
      "721/721 [==============================] - 0s 323us/step - loss: 105.7480\n",
      "Epoch 98/100\n",
      "721/721 [==============================] - 0s 337us/step - loss: 105.8678\n",
      "Epoch 99/100\n",
      "721/721 [==============================] - 0s 417us/step - loss: 107.2091\n",
      "Epoch 100/100\n",
      "721/721 [==============================] - 0s 306us/step - loss: 105.5792\n"
     ]
    },
    {
     "data": {
      "text/plain": [
       "<keras.callbacks.History at 0x7f80b80dfdd8>"
      ]
     },
     "execution_count": 14,
     "metadata": {},
     "output_type": "execute_result"
    }
   ],
   "source": [
    "model.fit(X_train, y_train, epochs=100, verbose=1)\n"
   ]
  },
  {
   "cell_type": "code",
   "execution_count": 15,
   "metadata": {},
   "outputs": [
    {
     "name": "stdout",
     "output_type": "stream",
     "text": [
      "309/309 [==============================] - 0s 267us/step\n"
     ]
    },
    {
     "data": {
      "text/plain": [
       "107.06577708420244"
      ]
     },
     "execution_count": 15,
     "metadata": {},
     "output_type": "execute_result"
    }
   ],
   "source": [
    "loss_val = model.evaluate(X_test, y_test)\n",
    "y_pred = model.predict(X_test)\n",
    "loss_val"
   ]
  },
  {
   "cell_type": "code",
   "execution_count": 16,
   "metadata": {},
   "outputs": [],
   "source": [
    "from sklearn.metrics import mean_squared_error"
   ]
  },
  {
   "cell_type": "code",
   "execution_count": 17,
   "metadata": {},
   "outputs": [
    {
     "name": "stdout",
     "output_type": "stream",
     "text": [
      "107.06577930643243 0.0\n"
     ]
    }
   ],
   "source": [
    "mean_square_error = mean_squared_error(y_test, y_pred)\n",
    "mean = np.mean(mean_square_error)\n",
    "standard_deviation = np.std(mean_square_error)\n",
    "print(mean, standard_deviation)"
   ]
  },
  {
   "cell_type": "code",
   "execution_count": 18,
   "metadata": {},
   "outputs": [
    {
     "name": "stdout",
     "output_type": "stream",
     "text": [
      "MSE 1: 73.55885512466183\n",
      "MSE 2: 74.47825373183562\n",
      "MSE 3: 54.13824178948757\n",
      "MSE 4: 48.43294930072278\n",
      "MSE 5: 52.489078114333665\n",
      "MSE 6: 45.45439878790896\n",
      "MSE 7: 56.830440410132546\n",
      "MSE 8: 42.17636230616893\n",
      "MSE 9: 50.54058141615784\n",
      "MSE 10: 50.08360295465463\n",
      "MSE 11: 43.47339212855861\n",
      "MSE 12: 43.312932141004644\n",
      "MSE 13: 52.283206161943454\n",
      "MSE 14: 48.8183189688377\n",
      "MSE 15: 46.91609109181031\n",
      "MSE 16: 39.44686717431522\n",
      "MSE 17: 43.662792107048155\n",
      "MSE 18: 46.17649948095426\n",
      "MSE 19: 40.2089624497497\n",
      "MSE 20: 45.055187398175974\n",
      "MSE 21: 42.48930662581064\n",
      "MSE 22: 42.19881836727599\n",
      "MSE 23: 40.774070468149525\n",
      "MSE 24: 42.05053722048269\n",
      "MSE 25: 45.448084747907025\n",
      "MSE 26: 44.03871260954724\n",
      "MSE 27: 43.82306811878982\n",
      "MSE 28: 38.20927394015118\n",
      "MSE 29: 45.51928651680067\n",
      "MSE 30: 43.85654296998453\n",
      "MSE 31: 44.39540839581042\n",
      "MSE 32: 38.28047035735788\n",
      "MSE 33: 40.47704616410832\n",
      "MSE 34: 47.81098115791395\n",
      "MSE 35: 39.919097011529125\n",
      "MSE 36: 44.62977996381741\n",
      "MSE 37: 46.53603438960696\n",
      "MSE 38: 46.65212780603699\n",
      "MSE 39: 40.85386294763065\n",
      "MSE 40: 37.47436248754606\n",
      "MSE 41: 50.81243711304896\n",
      "MSE 42: 41.040605649978986\n",
      "MSE 43: 39.33832396967126\n",
      "MSE 44: 54.603818899605265\n",
      "MSE 45: 42.10028831704149\n",
      "MSE 46: 43.4594796807249\n",
      "MSE 47: 43.24145794223428\n",
      "MSE 48: 41.41625471639787\n",
      "MSE 49: 40.304756744779816\n",
      "MSE 50: 41.7456687137147\n",
      "\n",
      "\n",
      "Below is the mean and standard deviation of 50 mean squared errors without normalized data. Total number of epochs for each training is: 50\n",
      "\n",
      "Mean: 45.820738993021614\n",
      "Standard Deviation: 7.270692278364593\n"
     ]
    }
   ],
   "source": [
    "total_mean_squared_errors = 50\n",
    "epochs = 50\n",
    "mean_squared_errors = []\n",
    "for i in range(0, total_mean_squared_errors):\n",
    "    X_train, X_test, y_train, y_test = train_test_split(predictors, target, test_size=0.3, random_state=i)\n",
    "    model.fit(X_train, y_train, epochs=epochs, verbose=0)\n",
    "    MSE = model.evaluate(X_test, y_test, verbose=0)\n",
    "    print(\"MSE \"+str(i+1)+\": \"+str(MSE))\n",
    "    y_pred = model.predict(X_test)\n",
    "    mean_square_error = mean_squared_error(y_test, y_pred)\n",
    "    mean_squared_errors.append(mean_square_error)\n",
    "\n",
    "mean_squared_errors = np.array(mean_squared_errors)\n",
    "mean = np.mean(mean_squared_errors)\n",
    "standard_deviation = np.std(mean_squared_errors)\n",
    "\n",
    "print('\\n')\n",
    "print(\"Below is the mean and standard deviation of \" +str(total_mean_squared_errors) + \" mean squared errors without normalized data. Total number of epochs for each training is: \" +str(epochs) + \"\\n\")\n",
    "print(\"Mean: \"+str(mean))\n",
    "print(\"Standard Deviation: \"+str(standard_deviation))"
   ]
  },
  {
   "cell_type": "code",
   "execution_count": null,
   "metadata": {},
   "outputs": [],
   "source": []
  },
  {
   "cell_type": "code",
   "execution_count": null,
   "metadata": {},
   "outputs": [],
   "source": []
  },
  {
   "cell_type": "code",
   "execution_count": null,
   "metadata": {},
   "outputs": [],
   "source": []
  },
  {
   "cell_type": "code",
   "execution_count": null,
   "metadata": {},
   "outputs": [],
   "source": []
  }
 ],
 "metadata": {
  "kernelspec": {
   "display_name": "Python",
   "language": "python",
   "name": "conda-env-python-py"
  },
  "language_info": {
   "codemirror_mode": {
    "name": "ipython",
    "version": 3
   },
   "file_extension": ".py",
   "mimetype": "text/x-python",
   "name": "python",
   "nbconvert_exporter": "python",
   "pygments_lexer": "ipython3",
   "version": "3.6.11"
  }
 },
 "nbformat": 4,
 "nbformat_minor": 4
}
